{
 "cells": [
  {
   "cell_type": "code",
   "execution_count": 170,
   "id": "20d9a0e5",
   "metadata": {},
   "outputs": [],
   "source": [
    "!rm -rf tmp/\n",
    "!cp -rf test-static/ tmp/"
   ]
  },
  {
   "cell_type": "code",
   "execution_count": 171,
   "id": "a30436f4",
   "metadata": {},
   "outputs": [],
   "source": [
    "BIBTEX_DIR='tmp/library.bib'\n",
    "PDF_DIR='/home/ffff/Programs/mendeley-replacer/tmp/pdf-dir/'\n",
    "PDF_FILE='tmp/my-pdf.pdf'"
   ]
  },
  {
   "cell_type": "code",
   "execution_count": 172,
   "id": "ec9a173a",
   "metadata": {},
   "outputs": [],
   "source": [
    "my_bibtex_entry='''@inproceedings{10.1145/3322276.3322305,\n",
    "author = {Seyed, Teddy and Tang, Anthony},\n",
    "title = {Mannequette: Understanding and Enabling Collaboration and Creativity on Avant-Garde Fashion-Tech Runways},\n",
    "year = {2019},\n",
    "isbn = {9781450358507},\n",
    "publisher = {Association for Computing Machinery},\n",
    "address = {New York, NY, USA},\n",
    "url = {https://doi.org/10.1145/3322276.3322305},\n",
    "doi = {10.1145/3322276.3322305},\n",
    "abstract = {Drawing upon multiple disciplines, avant-garde fashion-tech teams push the boundaries\n",
    "between fashion and technology. Many are well trained in envisioning aesthetic qualities\n",
    "of garments, but few have formal training on designing and fabricating technologies\n",
    "themselves. We introduce Mannequette, a prototyping tool for fashion-tech garments\n",
    "that enables teams to experiment with interactive technologies at early stages of\n",
    "their design processes. Mannequette provides an abstraction of light-based outputs\n",
    "and sensor-based inputs for garments through a DJ mixer-like interface that allows\n",
    "for dynamic changes and recording/playback of visual effects. The base of Mannequette\n",
    "can also be incorporated into the final garment, where it is then connected to the\n",
    "final components. We conducted an 8-week deployment study with eight design teams\n",
    "who created new garments for a runway show. Our results revealed Mannequette allowed\n",
    "teams to repeatedly consider new design and technical options early in their creative\n",
    "processes, and to communicate more effectively across disciplinary backgrounds.},\n",
    "booktitle = {Proceedings of the 2019 on Designing Interactive Systems Conference},\n",
    "pages = {317–329},\n",
    "numpages = {13},\n",
    "keywords = {fashion, fashion-tech, haute couture, maker culture, e-textiles, haute-tech couture, wearables, modular, avant-garde},\n",
    "location = {San Diego, CA, USA},\n",
    "series = {DIS '19}\n",
    "}'''"
   ]
  },
  {
   "cell_type": "code",
   "execution_count": 173,
   "id": "3497fd75",
   "metadata": {},
   "outputs": [],
   "source": [
    "from os.path import join\n",
    "from pybtex.database import parse_string\n",
    "from typing import Tuple\n",
    "from pybtex.database import BibliographyData\n",
    "from pybtex.database import Entry\n",
    "\n",
    "def add_file_to_entry (bibtex_entry: str) -> Tuple[str, BibliographyData]:\n",
    "    '''\n",
    "    Returns a citation key + a bibtex entry (dict) with the PDF associated.\n",
    "    '''\n",
    "    def mendeleyify (pth):\n",
    "        full_path = join(PDF_DIR, pth)\n",
    "        # make sure path starts with a  : instead of a /\n",
    "        return ':' + full_path[1:] + \":pdf\"\n",
    "    \n",
    "    def citation_key (parsed_entry):\n",
    "        return list(parsed_entry.entries)[0]\n",
    "    \n",
    "    parsed: BibliographyData = parse_string(bibtex_entry, 'bibtex')\n",
    "    ckey = citation_key(parsed)\n",
    "    entry: Entry = bd.entries[ckey]\n",
    "    entry.fields['file'] = mendeleyify(PDF_FILE)\n",
    "    parsed.entries[ckey] = entry\n",
    "    return ckey, parsed\n"
   ]
  },
  {
   "cell_type": "code",
   "execution_count": 174,
   "id": "410b87ef",
   "metadata": {},
   "outputs": [
    {
     "data": {
      "text/plain": [
       "BibliographyData(\n",
       "  entries=OrderedCaseInsensitiveDict([\n",
       "    ('10.1145/3322276.3322305', Entry('inproceedings',\n",
       "      fields=[\n",
       "        ('title', 'Mannequette: Understanding and Enabling Collaboration and Creativity on Avant-Garde Fashion-Tech Runways'), \n",
       "        ('year', '2019'), \n",
       "        ('isbn', '9781450358507'), \n",
       "        ('publisher', 'Association for Computing Machinery'), \n",
       "        ('address', 'New York, NY, USA'), \n",
       "        ('url', 'https:\n",
       "        //doi.org/10.1145/3322276.3322305'), ('doi', '10.1145/3322276.3322305'), \n",
       "        ('abstract', 'Drawing upon multiple disciplines, avant-garde fashion-tech teams push the boundaries between fashion and technology. Many are well trained in envisioning aesthetic qualities of garments, but few have formal training on designing and fabricating technologies themselves. We introduce Mannequette, a prototyping tool for fashion-tech garments that enables teams to experiment with interactive technologies at early stages of their design processes. Mannequette provides an abstraction of light-based outputs and sensor-based inputs for garments through a DJ mixer-like interface that allows for dynamic changes and recording/playback of visual effects. The base of Mannequette can also be incorporated into the final garment, where it is then connected to the final components. We conducted an 8-week deployment study with eight design teams who created new garments for a runway show. Our results revealed Mannequette allowed teams to repeatedly consider new design and technical options early in their creative processes, and to communicate more effectively across disciplinary backgrounds.'), \n",
       "        ('booktitle', 'Proceedings of the 2019 on Designing Interactive Systems Conference'), \n",
       "        ('pages', '317–329'), \n",
       "        ('numpages', '13'), \n",
       "        ('keywords', 'fashion, fashion-tech, haute couture, maker culture, e-textiles, haute-tech couture, wearables, modular, avant-garde'), \n",
       "        ('location', 'San Diego, CA, USA'), \n",
       "        ('series', \"DIS '19\"), \n",
       "        ('file', ':home/ffff/Programs/mendeley-replacer/tmp/pdf-dir/tmp/3322276.3322305.pdf:pdf')],\n",
       "      persons=OrderedCaseInsensitiveDict([('author', [Person('Seyed, Teddy'), Person('Tang, Anthony')])])))]),\n",
       "\n",
       "  preamble=[])"
      ]
     },
     "execution_count": 174,
     "metadata": {},
     "output_type": "execute_result"
    }
   ],
   "source": [
    "ckey, entry = add_file_to_entry(my_bibtex_entry)\n",
    "entry"
   ]
  },
  {
   "cell_type": "code",
   "execution_count": 175,
   "id": "45a95a1f",
   "metadata": {},
   "outputs": [
    {
     "name": "stdout",
     "output_type": "stream",
     "text": [
      "cp: cannot stat 'tmp/3322276.3322305.pdf': No such file or directory\r\n"
     ]
    }
   ],
   "source": [
    "import bibtexparser\n",
    "from pybtex.database import parse_file\n",
    "\n",
    "biblib = parse_file(BIBTEX_DIR)\n",
    "libkeys = list(biblib.entries)\n",
    "# with open(BIBTEX_DIR) as bibtex_file:\n",
    "#     bib_database = bibtexparser.load(bibtex_file)\n",
    "\n",
    "# check for citation key collisions.\n",
    "if citekey in libkeys:\n",
    "    raise Exception(f'Cite key {citekey} already in bibtex db! Choose a unique citekey. Not adding entry or moving PDF.')\n",
    "    \n",
    "# copy in PDF\n",
    "!cp $PDF_FILE $PDF_DIR\n",
    "\n",
    "# if ok, append to bibfile \n",
    "with open (BIBTEX_DIR, 'a') as f:\n",
    "    appendage = entry.to_string('bibtex')\n",
    "    f.write(appendage)\n",
    "    f.write('\\n')"
   ]
  },
  {
   "cell_type": "code",
   "execution_count": 139,
   "id": "e402c00e",
   "metadata": {},
   "outputs": [
    {
     "data": {
      "text/plain": [
       "BibliographyData(\n",
       "  entries=OrderedCaseInsensitiveDict([\n",
       "    ('10.1145/3322276.3322305', Entry('inproceedings',\n",
       "      fields=[\n",
       "        ('title', 'Mannequette: Understanding and Enabling Collaboration and Creativity on Avant-Garde Fashion-Tech Runways'), \n",
       "        ('year', '2019'), \n",
       "        ('isbn', '9781450358507'), \n",
       "        ('publisher', 'Association for Computing Machinery'), \n",
       "        ('address', 'New York, NY, USA'), \n",
       "        ('url', 'https:\n",
       "        //doi.org/10.1145/3322276.3322305'), ('doi', '10.1145/3322276.3322305'), \n",
       "        ('abstract', 'Drawing upon multiple disciplines, avant-garde fashion-tech teams push the boundaries between fashion and technology. Many are well trained in envisioning aesthetic qualities of garments, but few have formal training on designing and fabricating technologies themselves. We introduce Mannequette, a prototyping tool for fashion-tech garments that enables teams to experiment with interactive technologies at early stages of their design processes. Mannequette provides an abstraction of light-based outputs and sensor-based inputs for garments through a DJ mixer-like interface that allows for dynamic changes and recording/playback of visual effects. The base of Mannequette can also be incorporated into the final garment, where it is then connected to the final components. We conducted an 8-week deployment study with eight design teams who created new garments for a runway show. Our results revealed Mannequette allowed teams to repeatedly consider new design and technical options early in their creative processes, and to communicate more effectively across disciplinary backgrounds.'), \n",
       "        ('booktitle', 'Proceedings of the 2019 on Designing Interactive Systems Conference'), \n",
       "        ('pages', '317–329'), \n",
       "        ('numpages', '13'), \n",
       "        ('keywords', 'fashion, fashion-tech, haute couture, maker culture, e-textiles, haute-tech couture, wearables, modular, avant-garde'), \n",
       "        ('location', 'San Diego, CA, USA'), \n",
       "        ('series', \"DIS '19\"), \n",
       "        ('file', ':home/ffff/Programs/mendeley-replacer/pdf-dir/3322276.3322305.pdf:pdf')],\n",
       "      persons=OrderedCaseInsensitiveDict([('author', [Person('Seyed, Teddy'), Person('Tang, Anthony')])])))]),\n",
       "\n",
       "  preamble=[])"
      ]
     },
     "execution_count": 139,
     "metadata": {},
     "output_type": "execute_result"
    }
   ],
   "source": []
  }
 ],
 "metadata": {
  "kernelspec": {
   "display_name": "Python 3 (ipykernel)",
   "language": "python",
   "name": "python3"
  },
  "language_info": {
   "codemirror_mode": {
    "name": "ipython",
    "version": 3
   },
   "file_extension": ".py",
   "mimetype": "text/x-python",
   "name": "python",
   "nbconvert_exporter": "python",
   "pygments_lexer": "ipython3",
   "version": "3.8.10"
  }
 },
 "nbformat": 4,
 "nbformat_minor": 5
}
